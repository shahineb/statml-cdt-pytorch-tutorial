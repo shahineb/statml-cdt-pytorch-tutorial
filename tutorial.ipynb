{
 "cells": [
  {
   "cell_type": "markdown",
   "metadata": {},
   "source": [
    "# $\\fbox{$\\textbf{COMPUTATIONAL TRAINING WITH PYTORCH}$}$\n",
    "\n",
    "This notebook is an introduction to the popular deep learning library PyTorch. PyTorch is a low-level API that has gained a lot of attention in the research community since its initial release in 2016 due to its highly flexible framework. PyTorch is designed as a pythonic numpy-friendly package allowing you to control every single aspect of your model and training scheme in a modular way, and quickly get to prototyping custom architectures. \n",
    "\n",
    "PyTorch core feature *Autograd* allows you to easily propagate gradients through a computational graph following the chain rule. Its modular nature roughly revolves around a couple of building blocks:\n",
    "\n",
    "- `torch.Tensor`: the base tensor object class – [docs](https://pytorch.org/docs/stable/tensors.html)\n",
    "- `torch.autograd`: automatic differentiation (in practice you won't get to manipulate it so much) – [docs](https://pytorch.org/docs/stable/autograd.html)\n",
    "- `torch.nn`: module containing predefined and customizable building blocks for computational graphs – [docs](https://pytorch.org/docs/stable/nn.html)\n",
    "\n",
    "\n",
    "Of course, PyTorch has much more to offer and a rich [ecosystem](https://pytorch.org/ecosystem/) of libraries built around it, but in this tutorial we will try to cover the fundamentals of PyTorch automatic differentiation only, to provide you the necessary tools and understanding to tackle more complex machine learning problems.\n",
    "\n",
    "To start, follow the instructions from https://pytorch.org to install PyTorch."
   ]
  },
  {
   "cell_type": "code",
   "execution_count": 1,
   "metadata": {},
   "outputs": [],
   "source": [
    "import numpy as np\n",
    "import torch\n",
    "import matplotlib.pyplot as plt\n",
    "import tqdm"
   ]
  },
  {
   "cell_type": "markdown",
   "metadata": {},
   "source": [
    "---\n",
    "# $\\textbf{1 - The Tensor Class}$\n",
    "\n",
    "PyTorch introduces a `torch.Tensor` class of objects reprensenting multi-dimensional arrays. It is designed to be very compatible with `numpy` $\\Rightarrow$ globally, __syntax very similar to `numpy`__. Just see by yourself the following cells."
   ]
  },
  {
   "cell_type": "markdown",
   "metadata": {},
   "source": [
    "### Explicit Tensor Definition \n",
    "PyTorch tensors can be explicitely defined out of list as:"
   ]
  },
  {
   "cell_type": "code",
   "execution_count": 2,
   "metadata": {
    "scrolled": true
   },
   "outputs": [
    {
     "name": "stdout",
     "output_type": "stream",
     "text": [
      "Object class : <class 'torch.Tensor'>\n",
      "x = tensor([2., 2., 2.], dtype=torch.float64)\n",
      "y = tensor([3, 3, 3])\n"
     ]
    }
   ],
   "source": [
    "x = torch.tensor([2, 2, 2], dtype=torch.float64)\n",
    "y = torch.tensor([3, 3, 3])\n",
    "\n",
    "print(\"Object class :\", type(x))\n",
    "print(\"x =\", x)\n",
    "print(\"y =\", y)"
   ]
  },
  {
   "cell_type": "markdown",
   "metadata": {},
   "source": [
    "### Some basic tensor methods and attributes\n",
    "\n",
    "As for numpy arrays, tensors objects support slicing and have baked in attributes that will make your life easier. We showcase here a few of there is much more you can do."
   ]
  },
  {
   "cell_type": "code",
   "execution_count": 3,
   "metadata": {},
   "outputs": [
    {
     "name": "stdout",
     "output_type": "stream",
     "text": [
      "(A) - First element : tensor(2., dtype=torch.float64)\n",
      "(B) - First element as scalar: 2.0\n",
      "(C) - Shape : torch.Size([3])\n",
      "(D) - Nb dimensions : 1\n",
      "(E) - Nb elements : 3\n",
      "(F) - Mean : tensor(2., dtype=torch.float64)\n",
      "(G) - Sum : tensor(6., dtype=torch.float64)\n"
     ]
    }
   ],
   "source": [
    "# A - Access first element - further slicing works as well\n",
    "output = x[0]\n",
    "print(\"(A) - First element :\", output)\n",
    "\n",
    "# B - Get scalar value of first element - add .item()\n",
    "output = x[0].item()\n",
    "print(\"(B) - First element as scalar:\", output)\n",
    "\n",
    "# C - Get tensor shape - like in numpy but returns torch.Size object\n",
    "output = x.shape\n",
    "print(\"(C) - Shape :\", output)\n",
    "\n",
    "# D - Get tensor dimensionality\n",
    "output = x.ndim\n",
    "print(\"(D) - Nb dimensions :\", output)\n",
    "\n",
    "# E - Get tensor number of elements\n",
    "output = x.numel()\n",
    "print(\"(E) - Nb elements :\", output)\n",
    "\n",
    "# F - Get tensor mean\n",
    "output = x.mean()\n",
    "print(\"(F) - Mean :\", output)\n",
    "\n",
    "# G - Get tensor sum\n",
    "output = x.sum()\n",
    "print(\"(G) - Sum :\", output)"
   ]
  },
  {
   "cell_type": "markdown",
   "metadata": {},
   "source": [
    "### Tensor data type\n",
    "\n",
    "As for numpy arrays, `torch.Tensor` can only contain elements of a single data type, e.g. `torch.float16`, `torch.float32`, `torch.int16` etc. The latter can be specified at tensor definition as:\n",
    "\n",
    "```\n",
    ">>> x = torch.tensor([2, 2, 2], dtype=torch.float64)\n",
    ">>> x\n",
    "x = tensor([2., 2., 2.], dtype=torch.float64)\n",
    "```\n",
    "A comprehensive list of possible tensor data types can be found [here](https://pytorch.org/docs/stable/tensors.html). \n",
    "\n",
    "Short-hand methods are provided though to cast tensors as `int32` or `float32` which are default types for integers and floats"
   ]
  },
  {
   "cell_type": "code",
   "execution_count": 4,
   "metadata": {},
   "outputs": [
    {
     "name": "stdout",
     "output_type": "stream",
     "text": [
      "(A) - Data type : torch.int32\n",
      "x as an integer tensor : tensor([2, 2, 2], dtype=torch.int32) \n",
      "\n",
      "(B) - Data type : torch.float32\n",
      "x as an float tensor :  tensor([2., 2., 2.])\n"
     ]
    }
   ],
   "source": [
    "# A - Casting as an 32-integer tensor\n",
    "x = x.int()\n",
    "assert isinstance(x, torch.IntTensor)\n",
    "print(\"(A) - Data type :\", x.dtype)\n",
    "print(\"x as an integer tensor :\", x, \"\\n\")\n",
    "\n",
    "# B - Casting as a 32-float tensor\n",
    "x = x.float()\n",
    "assert isinstance(x, torch.FloatTensor)\n",
    "print(\"(B) - Data type :\", x.dtype)\n",
    "print(\"x as an float tensor : \", x)"
   ]
  },
  {
   "cell_type": "markdown",
   "metadata": {},
   "source": [
    "### Basic operations\n",
    "\n",
    "You can perform mathematical operations as you are used to with `numpy` arrays"
   ]
  },
  {
   "cell_type": "code",
   "execution_count": 5,
   "metadata": {
    "scrolled": true
   },
   "outputs": [
    {
     "name": "stdout",
     "output_type": "stream",
     "text": [
      "x + y = tensor([5., 5., 5.])\n",
      "x - y = tensor([-1., -1., -1.])\n",
      "x * y = tensor([6., 6., 6.])\n",
      "x / y = tensor([0.6667, 0.6667, 0.6667])\n"
     ]
    }
   ],
   "source": [
    "# Do some simple arithmetics\n",
    "print(\"x + y =\", x + y)\n",
    "print(\"x - y =\", x - y)\n",
    "print(\"x * y =\", x * y)\n",
    "print(\"x / y =\", x / y)"
   ]
  },
  {
   "cell_type": "code",
   "execution_count": 11,
   "metadata": {
    "scrolled": false
   },
   "outputs": [
    {
     "name": "stdout",
     "output_type": "stream",
     "text": [
      "Av = tensor([ 8., 11.])\n",
      "A^T = tensor([[3., 4.],\n",
      "        [2., 3.]])\n",
      "A^-1 = tensor([[ 3., -2.],\n",
      "        [-4.,  3.]])\n"
     ]
    }
   ],
   "source": [
    "# Or linear algebra\n",
    "A = torch.tensor([[3., 2.],\n",
    "                  [4., 3.]])\n",
    "v = torch.tensor([2., 1.])\n",
    "\n",
    "print(\"Av =\", A @ v)\n",
    "print(\"A^T =\", A.T)\n",
    "print(\"A^-1 =\", A.inverse())"
   ]
  },
  {
   "cell_type": "markdown",
   "metadata": {},
   "source": [
    "### Implicit tensors definition\n",
    "\n",
    "As with `numpy`, you can also define tensors of zeros, ones or random tensors by specifying their shape"
   ]
  },
  {
   "cell_type": "code",
   "execution_count": 6,
   "metadata": {
    "scrolled": false
   },
   "outputs": [
    {
     "name": "stdout",
     "output_type": "stream",
     "text": [
      "(A) - Zeros tensor : tensor([0., 0., 0., 0., 0.])\n",
      "(B) - Ones tensor : tensor([1., 1., 1., 1., 1.])\n",
      "(C) - Uniform random tensor : tensor([0.0867, 0.8892, 0.3934, 0.5218, 0.5848])\n",
      "(D) - Normal random tensor : tensor([ 0.8277, -0.5649,  0.2604,  0.4090, -0.2215])\n"
     ]
    }
   ],
   "source": [
    "# A - a tensor of shape (5,) full of zeros\n",
    "zeros_tensor = torch.zeros(5)\n",
    "print(\"(A) - Zeros tensor :\", zeros_tensor)\n",
    "\n",
    "# B - a tensor of shape (5,) full of ones\n",
    "ones_tensor = torch.ones(5)\n",
    "print(\"(B) - Ones tensor :\", ones_tensor)\n",
    "\n",
    "# C - a tensor of shape (5,) full of uniformly drawn number over [0,1]\n",
    "uniform_random_tensor = torch.rand(5)\n",
    "print(\"(C) - Uniform random tensor :\", uniform_random_tensor)\n",
    "\n",
    "# D - a tensor of shape (5,) full of normally drawn number N(0,1)\n",
    "normal_random_tensor = torch.randn(5)\n",
    "print(\"(D) - Normal random tensor :\", normal_random_tensor)"
   ]
  },
  {
   "cell_type": "markdown",
   "metadata": {},
   "source": [
    "### `torch.Tensor` $\\leftrightarrow$ `np.ndarray`\n",
    "\n",
    "Finally, to complete the `numpy` compatibility, it is possible to cast `numpy` arrays as `torch.Tensor` and reciprocally as:"
   ]
  },
  {
   "cell_type": "code",
   "execution_count": 7,
   "metadata": {
    "scrolled": false
   },
   "outputs": [
    {
     "name": "stdout",
     "output_type": "stream",
     "text": [
      "Torch Tensor :  tensor([1, 2, 3])\n",
      "Numpy Array :  [1 2 3]\n"
     ]
    }
   ],
   "source": [
    "# numpy -> torch\n",
    "numpy_array = np.array([1, 2, 3])\n",
    "torch_tensor = torch.from_numpy(numpy_array)\n",
    "print(\"Torch Tensor : \", torch_tensor)\n",
    "\n",
    "# torch -> numpy\n",
    "numpy_array = torch_tensor.numpy()\n",
    "print(\"Numpy Array : \", numpy_array)"
   ]
  },
  {
   "cell_type": "markdown",
   "metadata": {},
   "source": [
    "---\n",
    "# $\\textbf{2 - Automatic differentiation with PyTorch}$\n",
    "\n",
    "### So what's up with PyTorch, why not just keep using numpy arrays if it serves the same purpose?  \n",
    "\n",
    "Well, PyTorch has an additional very interesting feature called the __autograd function__. Basically, tensors can keep track of sequences of operations applied to them in a graph structure which facilitates backpropagation of gradient with chain rule within this graph structure.\n",
    "\n",
    "Consider for example the simple linear regression function defined by\n",
    "\n",
    "$$f_\\theta(\\mathbf{x}) = \\mathbf{x}^\\top \\mathbf{w} + b\\enspace\\text{where}\\enspace\\theta = \\begin{bmatrix}\n",
    "\\mathbf{w} \\\\\n",
    "b\n",
    "\\end{bmatrix}$$\n",
    "\n",
    "We can easily see that $\\nabla_\\mathbf{w} f_\\theta(\\mathbf{x}) = \\mathbf{x}$ and $\\nabla_b f_\\theta(\\mathbf{x}) = 1$\n",
    "\n",
    "Now in PyTorch, the computation of $f_\\theta$ would typically be represented by the following graph where the orange nodes correspond to tensors keeping track of every operation applied to them"
   ]
  },
  {
   "cell_type": "markdown",
   "metadata": {},
   "source": [
    "<img src=\"linear-model-graph.png\">\n",
    "\n",
    "> __In practice :__ _toggle `my_tensor.requires_grad=True` and your tensor will keep track of its computational graph (i.e. turn orange). If you'd like to run some computations without tracking them though, you can always use the `torch.no_grad()` wrapper (see below in \"Optimizing parameters tensors with Autograd\" example)_"
   ]
  },
  {
   "cell_type": "markdown",
   "metadata": {},
   "source": [
    "PyTorch will then be able to backpropagate output derivative through the computational graph using the chain rule and hence derive gradient wrt $\\mathbf{w}$ and $\\mathbf{b}$.\n",
    "\n",
    "It means that once you have fed your computational graph with __input__ $\\mathbf{x}$ and have retrieved your __output__ $y$, PyTorch will be able to compute the __partial derivative__ corresponding to __each step of the graph__ and __combine them__ to obtain the derivative w.r.t. the parameters of interest - here the weight vector $\\mathbf{w}$ and bias $b$ in orange.\n",
    "\n",
    "<img src=\"backprop-linear-model.png\">\n",
    "\n",
    "\n",
    "In this example, we retrieve the derivatives w.r.t to $\\mathbf{w}$ and $b$ through the chain rule as\n",
    "\n",
    "$$\n",
    "\\nabla_\\mathbf{w}f_\\theta(\\mathbf{x}) = \\frac{\\partial y}{\\partial (\\mathbf{x}^\\top\\mathbf{w} + b)}\\frac{\\partial (\\mathbf{x}^\\top\\mathbf{w} + b)}{\\partial (\\mathbf{x}^\\top\\mathbf{w})}\\frac{\\partial (\\mathbf{x}^\\top\\mathbf{w})}{\\partial \\mathbf{w}} = 1\\times 1\\times \\mathbf{x} = \\mathbf{x}\n",
    "$$\n",
    "\n",
    "$$\n",
    "\\nabla_b f_\\theta(\\mathbf{x}) = \\frac{\\partial y}{\\partial (\\mathbf{x}^\\top\\mathbf{w} + b)}\\frac{\\partial (\\mathbf{x}^\\top\\mathbf{w} + b)}{\\partial b} = 1\\times 1 = 1\n",
    "$$\n",
    "\n",
    "> __In practice :__ _once you have computed the output `y`, simply call `y.backward()` and pytorch will take care of this for you. Then you can retrieve gradients by querying `.grad` attribute of your tensors_"
   ]
  },
  {
   "cell_type": "markdown",
   "metadata": {},
   "source": [
    "\n"
   ]
  },
  {
   "cell_type": "markdown",
   "metadata": {},
   "source": [
    "Let's now write the code corresponding to this simple example and verify the obtain gradients correspond to what we would have expected, i.e. $\\nabla_\\mathbf{w} f_\\theta(\\mathbf{x}) = \\mathbf{x}$ and $\\nabla_b f_\\theta(\\mathbf{x}) = 1$"
   ]
  },
  {
   "cell_type": "code",
   "execution_count": 8,
   "metadata": {},
   "outputs": [
    {
     "name": "stdout",
     "output_type": "stream",
     "text": [
      "Input tensor x : tensor([-0.1051,  1.2779,  2.1188, -0.0846,  0.9409])\n",
      "Gradient wrt w : tensor([-0.1051,  1.2779,  2.1188, -0.0846,  0.9409])\n",
      "Gradient wrt b : tensor([1.])\n"
     ]
    }
   ],
   "source": [
    "# Define random weight and bias tensors with required_grad=True to keep track of operations graph\n",
    "w = torch.randn(5)\n",
    "b = torch.randn(1)\n",
    "w.requires_grad = True\n",
    "b.requires_grad = True\n",
    "\n",
    "# Define some random input vector x with same dimension as weight vector\n",
    "x = torch.randn(5)\n",
    "\n",
    "# Construct computational graph corresponding to linear model - that's how simple this is\n",
    "y = w.matmul(x) + b\n",
    "\n",
    "# Automatic gradient computation at x\n",
    "y.backward()\n",
    "\n",
    "# Print gradients of f at x\n",
    "print(\"Input tensor x :\", x)\n",
    "print(\"Gradient wrt w :\", w.grad)\n",
    "print(\"Gradient wrt b :\", b.grad)"
   ]
  },
  {
   "cell_type": "markdown",
   "metadata": {},
   "source": [
    "---\n",
    "# $\\textbf{3 - Modularization with}$ `torch.nn.Module`\n",
    "\n",
    "\n",
    "We've seen the idea behing PyTorch autograd on a plain example where we only had to define a weight tensor `w` and a bias tensor `b` and perform a straightforward affine operation `x.matmul(w) + b`.\n",
    "\n",
    "In general though, when you have more tensors performing complex operations, it can be quite cumbersome to define manually every tensor requiring a gradient and explicitely writing construction of computational graph every time we want to run inference.\n",
    "\n",
    "> _e.g. if you have several layers, you don't want to be defining lots of tensors `w1, w2, ..., wn`, `b1, b2, ..., bn` and explicitely write the model computation `y = w1.matmul(w2.matmul(... wn.matmul(x) + bn) + ...) + b2) + b1` __every single time__ that you need to run a computation, that would be a real pain_\n",
    "\n",
    "\n",
    "PyTorch proposes to rather wrap such sequence of operations into a child class inheriting from `torch.nn.Module` which is friendly with the autograd functionality. In practice, the syntax goes:\n",
    "\n",
    "```\n",
    "class DummyModel(torch.nn.Module):\n",
    "\n",
    "    def __init__(self, *args, **kwargs):\n",
    "        super().__init__()\n",
    "        # define all your tensors and parameters once\n",
    "        \n",
    "    def forward(self, x):\n",
    "        # define computational graph construction on x, once\n",
    "        return output\n",
    "\n",
    "\n",
    "model = DummyModel(# fill in with required arguments to define your tensors)\n",
    "```\n",
    "\n",
    "and then, given an input tensor `x`, you can simply call `y = model(x)` to define the computational graph on `x`.\n",
    "\n"
   ]
  },
  {
   "cell_type": "markdown",
   "metadata": {},
   "source": [
    "\n",
    "\n"
   ]
  },
  {
   "cell_type": "markdown",
   "metadata": {},
   "source": [
    "Let's see what this looks like for the previous example"
   ]
  },
  {
   "cell_type": "code",
   "execution_count": 9,
   "metadata": {},
   "outputs": [],
   "source": [
    "class LinearModel(torch.nn.Module):\n",
    "    \"\"\"Module defining computation of linear model\n",
    "    \n",
    "    Args:\n",
    "        size (int): input tensor size\n",
    "        \n",
    "    Attributes:\n",
    "        w (torch.Tensor): weight tensor\n",
    "        b (torch.Tensor): bias tensor\n",
    "    \"\"\"\n",
    "    def __init__(self, size):\n",
    "        super().__init__()\n",
    "        # Wrapping tensors as torch.nn.Parameter, we make them module parameters requiring gradient\n",
    "        self.w = torch.nn.Parameter(torch.randn(size))\n",
    "        self.b = torch.nn.Parameter(torch.randn(1))\n",
    "        \n",
    "    def forward(self, x):\n",
    "        \"\"\"Runs execution of <w,x> + b\n",
    "    \n",
    "        Args:\n",
    "            x (torch.Tensor): input variable tensor\n",
    "        \"\"\"\n",
    "        y = self.w.matmul(x) + self.b\n",
    "        return y"
   ]
  },
  {
   "cell_type": "code",
   "execution_count": 10,
   "metadata": {},
   "outputs": [
    {
     "name": "stdout",
     "output_type": "stream",
     "text": [
      "Input tensor x : tensor([-0.0813,  1.5646, -0.2486, -0.7263, -0.5797])\n",
      "Gradient wrt w : tensor([-0.0813,  1.5646, -0.2486, -0.7263, -0.5797])\n",
      "Gradient wrt b : tensor([1.])\n"
     ]
    }
   ],
   "source": [
    "# Instantiate module instance with same coefficients as previously\n",
    "f = LinearModel(size=5)\n",
    "\n",
    "# Define zero tensor with required_grad=True to keep track of operations graph\n",
    "x = torch.randn(5)\n",
    "\n",
    "# Run forward method by simply calling function\n",
    "y = f(x)\n",
    "\n",
    "# Automatic gradient computation at x\n",
    "y.backward()\n",
    "\n",
    "# Print gradients of f at x\n",
    "print(\"Input tensor x :\", x)\n",
    "print(\"Gradient wrt w :\", f.w.grad)\n",
    "print(\"Gradient wrt b :\", f.b.grad)"
   ]
  },
  {
   "cell_type": "markdown",
   "metadata": {},
   "source": [
    "---\n",
    "# $\\textbf{4 - Optimizing parameters tensors with Autograd}$\n",
    "\n",
    "Okay well, that was nice and all but in practice we don't just compute gradients for the sake of computing gradients: we use them for optimization. So let's try to see how would an `autograd`-based optimization procedure would look like in Pytorch for our simple linear model\n",
    "\n",
    "Suppose we have a dataset $\\{(\\mathbf{x}_i, y_i)\\}_{i=1}^n$ we'd like to fit this linear model on with gradient descent by minimizing objective\n",
    "\n",
    "$$\n",
    "L(\\theta) = \\sum_{i}|y_i - f_\\theta(\\mathbf{x}_i)|^2\n",
    "$$\n",
    "\n",
    "Concretely, this means that we would want to take several gradient steps over $L(\\theta)$ to update our model parameter as \n",
    "\n",
    "$$\n",
    "\\theta\\leftarrow\\theta - \\alpha \\nabla_\\theta L(\\theta)\n",
    "$$\n",
    "\n",
    "where $\\alpha$ is some arbitrarily set learning rate. We could go ahead and compute a closed form expression of $\\nabla_\\theta L(\\theta)$ to implement this with numpy. But why bother if PyTorch can handle this for us? All we need to do is:\n",
    "\n",
    "- Define a class corresponding to the model $f_\\theta$\n",
    "- Loop over:\n",
    "   - Feed $f_\\theta$ with inputs $\\{x_i\\}_{i=1}^n$ to retrieve predictions $\\{\\hat y_i\\}_{i=1}^n$\n",
    "   - Compute loss between predictions $\\{\\hat y_i\\}_{i=1}^n$ and groundtruth $\\{y_i\\}_{i=1}^n$\n",
    "   - Use autograd to backpropagate gradients from obtained loss value\n",
    "   - Update model weight $\\theta$ with computed gradients"
   ]
  },
  {
   "cell_type": "markdown",
   "metadata": {},
   "source": [
    "Let's see how this unfolds"
   ]
  },
  {
   "cell_type": "code",
   "execution_count": 11,
   "metadata": {},
   "outputs": [
    {
     "data": {
      "image/png": "[encoded data removed]",
      "text/plain": [
       "<Figure size 432x288 with 1 Axes>"
      ]
     },
     "metadata": {
      "needs_background": "light"
     },
     "output_type": "display_data"
    }
   ],
   "source": [
    "# RUN THIS TO GENERATE DATASET\n",
    "\n",
    "# Generate plain linear dataset y = 10x + 1\n",
    "torch.random.manual_seed(73)\n",
    "x = torch.linspace(0, 1, 100)\n",
    "y = 10 * x + 1 + torch.randn(100)\n",
    "\n",
    "# check that - torch tensors are compatible with matplotlib as well\n",
    "plt.scatter(x, y, marker='x')\n",
    "plt.grid(alpha=0.4)\n",
    "plt.show()"
   ]
  },
  {
   "cell_type": "code",
   "execution_count": 12,
   "metadata": {},
   "outputs": [
    {
     "data": {
      "application/vnd.jupyter.widget-view+json": {
       "model_id": "7bb27c35e2e9428882adf411c388b29e",
       "version_major": 2,
       "version_minor": 0
      },
      "text/plain": [
       "HBox(children=(FloatProgress(value=0.0, description='Iterations', max=300.0, style=ProgressStyle(description_w…"
      ]
     },
     "metadata": {},
     "output_type": "display_data"
    },
    {
     "name": "stdout",
     "output_type": "stream",
     "text": [
      "\n",
      "Predicted weight w = 9.705854415893555\n",
      "Predicted bias b = 1.11815345287323\n"
     ]
    },
    {
     "data": {
      "image/png": "[encoded data removed]",
      "text/plain": [
       "<Figure size 432x288 with 1 Axes>"
      ]
     },
     "metadata": {
      "needs_background": "light"
     },
     "output_type": "display_data"
    }
   ],
   "source": [
    "# Instantiate 1D linear model\n",
    "f = LinearModel(size=1)\n",
    "\n",
    "# Setup number of iterations and learning rate\n",
    "n_iter = 300\n",
    "learning_rate = 0.1\n",
    "\n",
    "\n",
    "# Run optimization\n",
    "iterator = tqdm.notebook.tqdm(range(n_iter), desc=\"Iterations\")\n",
    "for i in iterator:\n",
    "    # Run forward prediction\n",
    "    y_pred = f(x.unsqueeze(0))\n",
    "    \n",
    "    # Compute MSE loss\n",
    "    loss = torch.mean((y - y_pred)**2)\n",
    "    \n",
    "    # Perform automatic gradient computation\n",
    "    loss.backward()\n",
    "    \n",
    "    # Open wrapping block where we stop tracking computational graph\n",
    "    with torch.no_grad():\n",
    "        # Apply gradient descent step on w and b\n",
    "        f.w -= learning_rate * f.w.grad\n",
    "        f.b -= learning_rate * f.b.grad\n",
    "        \n",
    "        # Set gradients back to zero for next iteration\n",
    "        f.w.grad.zero_()\n",
    "        f.b.grad.zero_()\n",
    "    \n",
    "    # Log current loss value on progress bar\n",
    "    iterator.set_postfix(mse_loss=loss.item())\n",
    "\n",
    "    \n",
    "# Display results\n",
    "with torch.no_grad():\n",
    "    print(\"Predicted weight w =\", f.w.item())\n",
    "    print(\"Predicted bias b =\", f.b.item())\n",
    "    plt.scatter(x.squeeze(), y, marker='x', label='Dataset')\n",
    "    plt.plot(x.squeeze(), f(x.unsqueeze(0)), color='tomato', label='Prediction')\n",
    "    plt.grid(alpha=0.4)\n",
    "    plt.legend()\n",
    "    pred_w, pred_b = f.w.item(), f.b.item()\n",
    "    plt.show()"
   ]
  },
  {
   "cell_type": "markdown",
   "metadata": {},
   "source": [
    "## Introducing PyTorch Optimizers\n",
    "\n",
    "Remember when I told you there was more to Pytorch? In the previous example, applying gradient step to each individual parameter tensor was quite alright because there were only ... two. \n",
    "\n",
    "But what if we were trying to fit a resnet101 that has over 300 layers with 44 million parameters? We would really fancy some way to avoid explicitely writing gradient descent step of every individial parameter tensor.\n",
    "\n",
    "That's why PyTorch proposes to take care of optimization for you with `torch.optim.Optimizer` instances. Let's see how this works for the same example again. You just need to provide the optimizer with the list of parameters it should be optimizing on – and its own hyperparameters such as learning rate – and then it takes care of executing the optimizing step for you."
   ]
  },
  {
   "cell_type": "code",
   "execution_count": 13,
   "metadata": {
    "scrolled": false
   },
   "outputs": [
    {
     "data": {
      "application/vnd.jupyter.widget-view+json": {
       "model_id": "fd58ac2c567e4ed0bce2859ff02321dc",
       "version_major": 2,
       "version_minor": 0
      },
      "text/plain": [
       "HBox(children=(FloatProgress(value=0.0, description='Iterations', max=300.0, style=ProgressStyle(description_w…"
      ]
     },
     "metadata": {},
     "output_type": "display_data"
    },
    {
     "name": "stdout",
     "output_type": "stream",
     "text": [
      "\n",
      "Predicted weight w = 9.705921173095703\n",
      "Predicted bias b = 1.118118166923523\n"
     ]
    },
    {
     "data": {
      "image/png": "[encoded data removed]",
      "text/plain": [
       "<Figure size 432x288 with 1 Axes>"
      ]
     },
     "metadata": {
      "needs_background": "light"
     },
     "output_type": "display_data"
    }
   ],
   "source": [
    "# Instantiate 1D linear model\n",
    "f = LinearModel(size=1)\n",
    "\n",
    "# Setup stochastic gradient descent optimizer on model parameters and number of iterations\n",
    "n_iter = 300\n",
    "optimizer = torch.optim.SGD(params=f.parameters(), lr=0.1)\n",
    "\n",
    "\n",
    "# Run optimization\n",
    "iterator = tqdm.notebook.tqdm(range(n_iter), desc=\"Iterations\")\n",
    "for i in iterator:\n",
    "    # Run forward prediction\n",
    "    y_pred = f(x.unsqueeze(0))\n",
    "    \n",
    "    # Compute MSE loss\n",
    "    loss = torch.mean((y - y_pred)**2)\n",
    "    \n",
    "    # Perform automatic gradient computation\n",
    "    loss.backward()\n",
    "    \n",
    "    # Take gradient step through backpropagation - no more manual updating of parameters\n",
    "    optimizer.step()\n",
    "    \n",
    "    # Set gradient back to zeros for next iteration\n",
    "    optimizer.zero_grad()\n",
    "    \n",
    "    # Log current loss value on progress bar\n",
    "    iterator.set_postfix(mse_loss=loss.item())\n",
    "\n",
    "    \n",
    "# Display results\n",
    "with torch.no_grad():\n",
    "    print(\"Predicted weight w =\", f.w.item())\n",
    "    print(\"Predicted bias b =\", f.b.item())\n",
    "    plt.scatter(x.squeeze(), y, marker='x', label='Dataset')\n",
    "    plt.plot(x.squeeze(), f.w * x.squeeze() + f.b, color='tomato', label='Prediction')\n",
    "    plt.grid(alpha=0.4)\n",
    "    plt.legend()\n",
    "    pred_w, pred_b = f.w.item(), f.b.item()\n",
    "    plt.show()"
   ]
  },
  {
   "cell_type": "markdown",
   "metadata": {},
   "source": [
    "---\n",
    "# $\\textbf{5 - Hands on neural networks with}$ `torch.nn`\n",
    "\n",
    "So far, there has been two occurences of the `torch.nn` module in this tutorial: `torch.nn.Module` and `torch.nn.Parameter`. But this module, meant for flexible design of parametric models (focus on neural networks though) has much more to offer.\n",
    "\n",
    "\n",
    "Virtually every basic building block of neural networks is already available in there, from fully connected layers with `nn.Linear`, to batch normalization, activation functions, nD convolutions etc. But the module also offers preimplemented version of widely used loss functions. We showcase here a couple of these utilities but feel free to browse through the [docs](https://pytorch.org/docs/stable/nn.html).\n",
    "\n",
    "- __Learnable modules__ : `nn.Linear`, `nn.Bilinear`, `nn.Conv1d`, `nn.Conv2d`, `nn.BatchNorm1d`, `nn.BatchNorm2d`\n",
    "\n",
    "- __Non-learnable modules__: `nn.ReLU`, `nn.LeakyReLU`, `nn.Dropout1d`, `nn.Dropout2d`\n",
    "\n",
    "- __Loss modules__: `nn.MSELoss`, `nn.L1Loss`, `nn.CrossEntropyLoss`, `nn.KLDivLoss`\n",
    "\n",
    "And let's see with on an example how we can take advantage of all these building blocks to quickly prototype a fully modular toy neural network and train it"
   ]
  },
  {
   "cell_type": "code",
   "execution_count": 15,
   "metadata": {},
   "outputs": [],
   "source": [
    "import torch.nn as nn\n",
    "\n",
    "class ToyNeuralNetwork(nn.Module):\n",
    "    \"\"\"Model defining computation of simple parametric neural network\n",
    "    \n",
    "                +------+  +----+  +-------+  +------+\n",
    "                |Linear+->+ReLU+->+Dropout+->+Linear|\n",
    "                +------+  +----+  +-------+  +------+\n",
    "\n",
    "    Args:\n",
    "        input_size (int): dimension of input tensor\n",
    "        hidden_size (int): dimension of hidden layer\n",
    "        output_size (int): dimension of output tensor\n",
    "        dropout_rate (int): rate of dropout applied to hidden layer\n",
    "    \"\"\"\n",
    "    def __init__(self, input_size, hidden_size, output_size, dropout_rate):\n",
    "        super().__init__()\n",
    "        self.input_layer = nn.Linear(in_features=input_size, \n",
    "                                     out_features=hidden_size)\n",
    "        self.output_layer = nn.Linear(in_features=hidden_size, \n",
    "                                      out_features=output_size)\n",
    "\n",
    "        self.relu = nn.ReLU()\n",
    "        self.dropout = nn.Dropout(p=dropout_rate)\n",
    "    \n",
    "    def forward(self, x):\n",
    "        \"\"\"Defines operations of module computational graph\n",
    "        \n",
    "        Args:\n",
    "            x (torch.Tensor): input variable tensor\n",
    "        \"\"\"\n",
    "        x = self.input_layer(x)\n",
    "        x = self.relu(x)\n",
    "        x = self.dropout(x)\n",
    "        x = self.output_layer(x)\n",
    "        return x"
   ]
  },
  {
   "cell_type": "code",
   "execution_count": null,
   "metadata": {},
   "outputs": [
    {
     "data": {
      "application/vnd.jupyter.widget-view+json": {
       "model_id": "e0c4d2eea8224abba7dc22bc2c0de09b",
       "version_major": 2,
       "version_minor": 0
      },
      "text/plain": [
       "HBox(children=(FloatProgress(value=0.0, description='Iterations', max=1000.0, style=ProgressStyle(description_…"
      ]
     },
     "metadata": {},
     "output_type": "display_data"
    }
   ],
   "source": [
    "# Instantiate 1D linear model\n",
    "model = ToyNeuralNetwork(input_size=1, hidden_size=32, output_size=1, dropout_rate=0.4)\n",
    "model.train()\n",
    "\n",
    "# Setup MSE criterion\n",
    "criterion = nn.MSELoss()\n",
    "\n",
    "# Setup stochastic gradient descent optimizer on model parameters and number of iterations\n",
    "n_iter = 1000\n",
    "optimizer = torch.optim.SGD(params=model.parameters(), lr=0.01)\n",
    "\n",
    "\n",
    "# Run optimization\n",
    "iterator = tqdm.notebook.tqdm(range(n_iter), desc=\"Iterations\")\n",
    "for i in iterator:\n",
    "    # Run forward prediction\n",
    "    y_pred = model(x.unsqueeze(1))\n",
    "    \n",
    "    # Compute MSE loss\n",
    "    loss = criterion(y, y_pred.squeeze())\n",
    "    \n",
    "    # Perform automatic gradient computation\n",
    "    loss.backward()\n",
    "    \n",
    "    # Take gradient step through backpropagation\n",
    "    optimizer.step()\n",
    "    \n",
    "    # Set gradient back to zeros for next iteration\n",
    "    optimizer.zero_grad()\n",
    "    \n",
    "    # Log current loss value on progress bar\n",
    "    iterator.set_postfix(mse_loss=loss.item())\n",
    "\n",
    "    \n",
    "# Display results\n",
    "with torch.no_grad():\n",
    "    plt.scatter(x.squeeze(), y, marker='x', label='Dataset')\n",
    "    plt.plot(x.squeeze(), model(x.view(-1, 1)).squeeze(), color='tomato', label='Prediction')\n",
    "    plt.grid(alpha=0.4)\n",
    "    plt.legend()\n",
    "    plt.show()"
   ]
  },
  {
   "cell_type": "markdown",
   "metadata": {},
   "source": [
    "---"
   ]
  }
 ],
 "metadata": {
  "kernelspec": {
   "display_name": "torch",
   "language": "python",
   "name": "torch"
  },
  "language_info": {
   "codemirror_mode": {
    "name": "ipython",
    "version": 3
   },
   "file_extension": ".py",
   "mimetype": "text/x-python",
   "name": "python",
   "nbconvert_exporter": "python",
   "pygments_lexer": "ipython3",
   "version": "3.6.7"
  }
 },
 "nbformat": 4,
 "nbformat_minor": 4
}
